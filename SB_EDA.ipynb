{
 "cells": [
  {
   "cell_type": "markdown",
   "id": "c26cd487",
   "metadata": {},
   "source": [
    "# Import the Required Packages"
   ]
  },
  {
   "cell_type": "code",
   "execution_count": null,
   "id": "cf3275fa",
   "metadata": {},
   "outputs": [],
   "source": [
    "import numpy as np\n",
    "import pandas as pd\n",
    "import matplotlib.pyplot as plt\n",
    "import seaborn as sns\n",
    "import re"
   ]
  },
  {
   "cell_type": "markdown",
   "id": "8d051607",
   "metadata": {},
   "source": [
    "# Data pre-processing"
   ]
  },
  {
   "cell_type": "markdown",
   "id": "19c87288",
   "metadata": {},
   "source": [
    "## Read the data"
   ]
  },
  {
   "cell_type": "code",
   "execution_count": null,
   "id": "65bfa7b1",
   "metadata": {},
   "outputs": [],
   "source": [
    "# Define the file path for the CSV file\n",
    "file_path = '/path/to/your/df_final.csv'  # Adjust the path accordingly\n",
    "\n",
    "# Read the CSV file into a DataFrame\n",
    "df = pd.read_csv(file_path)\n",
    "\n",
    "# Display the first few rows of the DataFrame to get an overview of the data\n",
    "display(df.head())\n",
    "\n",
    "# Print out detailed information about the DataFrame, such as column names, data types, and non-null counts\n",
    "print(df.info())"
   ]
  },
  {
   "cell_type": "markdown",
   "id": "757427b2",
   "metadata": {},
   "source": [
    "## Handle missing values, duplicates, and reason extraction failures"
   ]
  },
  {
   "cell_type": "code",
   "execution_count": null,
   "id": "ba32ccfe",
   "metadata": {},
   "outputs": [],
   "source": [
    "# Check and extract rows with missing values\n",
    "df_missing = df[df.isnull().any(axis=1)]\n",
    "\n",
    "# Check and extract rows with duplicate \"decision_id\"\n",
    "df_duplicates = df[df.duplicated(subset=['decision_id'])]\n",
    "\n",
    "# Identify rows where all reason columns (reason_1 to reason_7) are zero\n",
    "reasons_columns = [\n",
    "    'reason_1', 'reason_2', 'reason_3', 'reason_4', 'reason_5', 'reason_6',\n",
    "    'reason_7'\n",
    "]\n",
    "zero_reasons_df = df[(df[reasons_columns] == 0).all(axis=1)]\n",
    "\n",
    "# Print the count of rows with missing values, duplicate rows, and rows with all zero reasons\n",
    "missing_values_count = df.isnull().any(axis=1).sum()\n",
    "duplicate_rows_count = df.duplicated().sum()\n",
    "zero_reasons_count = zero_reasons_df.shape[0]\n",
    "\n",
    "print(\n",
    "    f\"Number of missing values: {missing_values_count}, accounting for {(missing_values_count/len(df)) * 100:.2f}% of the total data.\"\n",
    ")\n",
    "print(\n",
    "    f\"Number of duplicate rows: {duplicate_rows_count}, accounting for {(duplicate_rows_count/len(df)) * 100:.2f}% of the total data.\"\n",
    ")\n",
    "print(\n",
    "    f\"Number of rows where all reason columns are zero: {zero_reasons_count}, accounting for {(zero_reasons_count/len(df)) * 100:.2f}% of the total data.\"\n",
    ")\n",
    "\n",
    "# Remove rows with missing values\n",
    "df_cleaned = df.dropna()\n",
    "\n",
    "# Remove duplicate rows, keeping only one instance of each \"decision_id\"\n",
    "df_cleaned = df_cleaned.drop_duplicates()\n",
    "\n",
    "# Add a new column 'reason_non' to indicate rows where all reason columns are zero\n",
    "df_cleaned['reason_non'] = ((df_cleaned[reasons_columns] == 0).all(axis=1)).astype(int)\n",
    "\n",
    "# Insert 'reason_non' column between 'reason_7' and 'background'\n",
    "df_cleaned.insert(df_cleaned.columns.get_loc('background'), 'reason_non', df_cleaned.pop('reason_non'))\n",
    "\n",
    "# Define a function to count the number of words in a string\n",
    "def word_count(text):\n",
    "    return len(text.split())\n",
    "\n",
    "# Apply the function and filter rows with less than 50 words\n",
    "df_cleaned = df_cleaned[df_cleaned['background'].apply(word_count) >= 50]\n",
    "\n",
    "# Optional: Visualize the missing values\n",
    "# plt.figure(figsize=(12, 6))\n",
    "# sns.heatmap(df.isnull(), cbar=False, cmap='viridis')\n",
    "# plt.title('Heatmap of Missing Values')\n",
    "# plt.show()\n",
    "\n",
    "# Optional: Visualize the duplicate rows\n",
    "# duplicate_counts = df.duplicated().value_counts()\n",
    "# plt.figure(figsize=(8, 6))\n",
    "# sns.barplot(x=duplicate_counts.index, y=duplicate_counts.values, palette='viridis')\n",
    "# plt.title('Count of Duplicate Rows')\n",
    "# plt.xlabel('Is Duplicate')\n",
    "# plt.ylabel('Count')\n",
    "# plt.show()\n",
    "\n",
    "# Optional: Display DataFrames with missing values and duplicates\n",
    "# display(df_missing)\n",
    "# display(df_duplicates)\n",
    "# print(\"DataFrame with Missing Values:\")\n",
    "# print(df_missing)\n",
    "# print(\"DataFrame with Duplicates:\")\n",
    "# print(df_duplicates)"
   ]
  },
  {
   "cell_type": "markdown",
   "id": "63948be3",
   "metadata": {},
   "source": [
    "## Processing \"date\" data"
   ]
  },
  {
   "cell_type": "code",
   "execution_count": null,
   "id": "dcdc9d2a",
   "metadata": {},
   "outputs": [],
   "source": [
    "# Convert the 'date' column to datetime format\n",
    "df_cleaned['date'] = pd.to_datetime(df_cleaned['date'])"
   ]
  },
  {
   "cell_type": "markdown",
   "id": "a12c2315",
   "metadata": {},
   "source": [
    "## Processing \"decision\", \"gender\" and \"reason\" data"
   ]
  },
  {
   "cell_type": "code",
   "execution_count": null,
   "id": "cedde406",
   "metadata": {},
   "outputs": [],
   "source": [
    "# Convert 'decision', 'gender', and 'reason' columns to integer type\n",
    "cols_to_convert = ['decision', 'gender', 'reason_1', 'reason_2', 'reason_3', 'reason_4', 'reason_5', 'reason_6', 'reason_7']\n",
    "df_cleaned[cols_to_convert] = df_cleaned[cols_to_convert].astype(int)"
   ]
  },
  {
   "cell_type": "markdown",
   "id": "f8700b61",
   "metadata": {},
   "source": [
    "## Processing \"category\" data"
   ]
  },
  {
   "cell_type": "code",
   "execution_count": null,
   "id": "721fa704",
   "metadata": {},
   "outputs": [],
   "source": [
    "# Ensure the 'category' column is treated as a categorical variable\n",
    "df_cleaned['category'] = df_cleaned['category'].astype('category')"
   ]
  },
  {
   "cell_type": "markdown",
   "id": "d9f42d27",
   "metadata": {},
   "source": [
    "## Processing \"compensation\" data"
   ]
  },
  {
   "cell_type": "code",
   "execution_count": null,
   "id": "5c392ecf",
   "metadata": {},
   "outputs": [],
   "source": [
    "# Define a function to process the 'compensation' column\n",
    "def process_compensation(compensation):\n",
    "    \"\"\"\n",
    "    Process the compensation value:\n",
    "    - If it's 'Non-pecuniary compensation', return it as is.\n",
    "    - If it contains a currency symbol (£), extract and clean the numeric part.\n",
    "    - For any other text, remove non-alphanumeric characters.\n",
    "    \n",
    "    Parameters:\n",
    "    compensation (str): The original compensation text.\n",
    "    \n",
    "    Returns:\n",
    "    str or float: Cleaned compensation value as float if numeric, otherwise the cleaned text.\n",
    "    \"\"\"\n",
    "    # Return immediately if it's a non-pecuniary compensation\n",
    "    if compensation == \"Non-pecuniary compensation\":\n",
    "        return compensation\n",
    "    \n",
    "    # Extract and clean numeric compensation if it contains a currency symbol\n",
    "    if \"£\" in compensation:\n",
    "        # Remove all characters that are not digits or decimal points\n",
    "        compensation = re.sub(r'[^\\d.]', '', compensation)\n",
    "        # Handle cases with multiple decimal points, keep only the first valid number\n",
    "        if compensation.count('.') > 1:\n",
    "            compensation = compensation.split('.')[0] + '.' + compensation.split('.')[1]\n",
    "        return float(compensation)\n",
    "    \n",
    "    # Remove all other symbols and text for non-numeric compensations\n",
    "    return re.sub(r'[^\\w\\s]', '', compensation).strip()\n",
    "\n",
    "# Apply the compensation processing function to the 'compensation' column\n",
    "df_cleaned['compensation'] = df_cleaned['compensation'].apply(process_compensation)"
   ]
  },
  {
   "cell_type": "markdown",
   "id": "297cdd68",
   "metadata": {},
   "source": [
    "## Add \"include\": 0 means SB doesn't own this category; 1 means SB owns this category"
   ]
  },
  {
   "cell_type": "code",
   "execution_count": null,
   "id": "3bde39e3",
   "metadata": {},
   "outputs": [],
   "source": [
    "# Create a mapping dictionary for categories and inclusion flags\n",
    "mapping = {\n",
    "    \"category\": [\"c1\", \"c2\", \"c3\", \"c4\", \"c5\", \"c6\", \"c7\", \"c8\", \"c9\", \"c10\", \"c11\"],\n",
    "    \"include\": [0, 0, 1, 1, 1, 1, 0, 0, 1, 1, 1]\n",
    "}\n",
    "\n",
    "# Convert the mapping dictionary to a DataFrame\n",
    "df_mapping = pd.DataFrame(mapping)\n",
    "\n",
    "# Merge the cleaned DataFrame with the mapping DataFrame on the 'category' column\n",
    "df_processed = pd.merge(df_cleaned, df_mapping, on=\"category\", how=\"left\")"
   ]
  },
  {
   "cell_type": "markdown",
   "id": "8c64d589",
   "metadata": {},
   "source": [
    "## Output the processed dataset"
   ]
  },
  {
   "cell_type": "code",
   "execution_count": null,
   "id": "3419d609",
   "metadata": {},
   "outputs": [],
   "source": [
    "df_processed.to_csv('path/to/save/data_extracted.csv', index=False)"
   ]
  },
  {
   "cell_type": "markdown",
   "id": "39807db0",
   "metadata": {},
   "source": [
    "# Code for Insurance Product Complaint Case Analysis Section"
   ]
  },
  {
   "cell_type": "code",
   "execution_count": null,
   "id": "7d73bccc",
   "metadata": {},
   "outputs": [],
   "source": [
    "# Load the CSV file into a DataFrame\n",
    "file_path = 'path/to/save/data_extracted.csv'\n",
    "df_eda = pd.read_csv(file_path)"
   ]
  },
  {
   "cell_type": "markdown",
   "id": "421ee07b",
   "metadata": {},
   "source": [
    "## Overall Situation"
   ]
  },
  {
   "cell_type": "code",
   "execution_count": null,
   "id": "e8bdbc35",
   "metadata": {},
   "outputs": [],
   "source": [
    "# Convert the 'date' column to datetime format\n",
    "df_eda['date'] = pd.to_datetime(df_eda['date'])\n",
    "\n",
    "# Ensure that the 'category' column is treated as a categorical variable\n",
    "df_eda['category'] = df_eda['category'].astype('category')\n",
    "\n",
    "# Define the columns that record reasons for complaints\n",
    "reasons = ['reason_1', 'reason_2', 'reason_3', 'reason_4', 'reason_5', 'reason_6', 'reason_7', 'reason_non']\n",
    "\n",
    "# Set the color palette for visualizations using a HSV (Hue, Saturation, Value) color scheme\n",
    "colors = sns.color_palette(\"hsv\", len(reasons))\n",
    "\n",
    "# Define the order for sorting insurance product categories\n",
    "categories = ['c1', 'c2', 'c3', 'c4', 'c5', 'c6', 'c7', 'c8', 'c9', 'c10', 'c11']"
   ]
  },
  {
   "cell_type": "markdown",
   "id": "ccdab8e9",
   "metadata": {},
   "source": [
    "### 1. Distribution of uphold rate (decision variable being 1) over time"
   ]
  },
  {
   "cell_type": "code",
   "execution_count": null,
   "id": "94e0fd81",
   "metadata": {},
   "outputs": [],
   "source": [
    "# Set font sizes for titles and axis labels\n",
    "plt.rcParams.update({'axes.titlesize': 55, 'axes.labelsize': 45, 'xtick.labelsize': 40, 'ytick.labelsize': 40})\n",
    "\n",
    "# Set the background color of the plots to a light gray\n",
    "sns.set_style(\"whitegrid\", {\"axes.facecolor\": \".3\"})\n",
    "\n",
    "# Filter the DataFrame to include only numeric and datetime columns\n",
    "df_eda_numeric = df_eda.select_dtypes(include=['number', 'datetime64'])\n",
    "\n",
    "# 1. Distribution of uphold rate (where the 'decision' variable is 1) over time, with daily precision\n",
    "df_eda_daily = df_eda_numeric.set_index('date').resample('D').mean().reset_index()\n",
    "df_eda_daily['decision_rate'] = df_eda_daily['decision'].rolling(window=30, min_periods=1).mean()\n",
    "\n",
    "# Create a figure for the plot\n",
    "plt.figure(figsize=(30, 16))\n",
    "sns.lineplot(data=df_eda_daily, x='date', y='decision_rate', legend=False, linewidth=7)  # Set line width\n",
    "\n",
    "# Add title and axis labels\n",
    "plt.title('Uphold Rate Over Time', pad=30)  # The pad parameter adds space between the title and the plot\n",
    "plt.xlabel('Date')\n",
    "plt.ylabel('Uphold Rate')\n",
    "\n",
    "# Set y-axis limits and add a grid to the plot\n",
    "plt.ylim(0, 1)\n",
    "plt.grid(True)\n",
    "plt.xticks(rotation=45)\n",
    "\n",
    "# Set a general save path for the figure (user should adjust the path as needed)\n",
    "save_path = 'path/to/save/uphold_rate_over_time.png'\n",
    "\n",
    "# Save the plot as an image file\n",
    "plt.savefig(save_path)\n",
    "\n",
    "# Display the plot\n",
    "plt.show()"
   ]
  },
  {
   "cell_type": "markdown",
   "id": "d85086f9",
   "metadata": {},
   "source": [
    "### Distribution of total number of complaints over time"
   ]
  },
  {
   "cell_type": "code",
   "execution_count": null,
   "id": "bf6dd256",
   "metadata": {},
   "outputs": [],
   "source": [
    "# Set font sizes for titles and axis labels\n",
    "plt.rcParams.update({'axes.titlesize': 55, 'axes.labelsize': 45, 'xtick.labelsize': 40, 'ytick.labelsize': 40})\n",
    "\n",
    "# Set the background color of the plots to a light gray\n",
    "sns.set_style(\"whitegrid\", {\"axes.facecolor\": \".3\"})\n",
    "\n",
    "# Calculate the total number of complaints per month\n",
    "df_eda_daily_count = df_eda.set_index('date').resample('M').size().reset_index(name='complaint_count')\n",
    "\n",
    "# Create a figure for the plot\n",
    "plt.figure(figsize=(30, 16))\n",
    "sns.lineplot(data=df_eda_daily_count, x='date', y='complaint_count', legend=False, linewidth=7)  # Set line width\n",
    "\n",
    "# Add title and axis labels\n",
    "plt.title('Total Complaints Over Time', pad=30)  # The pad parameter adds space between the title and the plot\n",
    "plt.xlabel('Date')\n",
    "plt.ylabel('Total Complaints')\n",
    "\n",
    "# Add a grid to the plot and rotate x-axis labels\n",
    "plt.grid(True)\n",
    "plt.xticks(rotation=45)\n",
    "\n",
    "# Set a general save path for the figure (user should adjust the path as needed)\n",
    "save_path = 'path/to/save/total_complaints_over_time.png'\n",
    "\n",
    "# Save the plot as an image file\n",
    "plt.savefig(save_path)\n",
    "\n",
    "# Display the plot\n",
    "plt.show()"
   ]
  },
  {
   "cell_type": "markdown",
   "id": "8b04dc9a",
   "metadata": {},
   "source": [
    "### 2. Distribution of different complained product categories over time"
   ]
  },
  {
   "cell_type": "code",
   "execution_count": null,
   "id": "0a2bd574",
   "metadata": {},
   "outputs": [],
   "source": [
    "# Distribution of Product Categories Over Time (Monthly)\n",
    "# Set background color to light gray\n",
    "sns.set_style(\"whitegrid\", {\"axes.facecolor\": \".3\"})\n",
    "\n",
    "# Set title and axis label font sizes\n",
    "plt.rcParams.update({\n",
    "    'axes.titlesize': 35, \n",
    "    'axes.labelsize': 30, \n",
    "    'xtick.labelsize': 25, \n",
    "    'ytick.labelsize': 20\n",
    "})\n",
    "\n",
    "# Set up subplots\n",
    "fig, axs = plt.subplots(4, 3, figsize=(30, 16), sharex=True, sharey=True)\n",
    "colors = sns.color_palette(\"hsv\", len(categories))\n",
    "\n",
    "# Group data by month and category, then calculate counts\n",
    "df_category_counts_monthly = df_eda.groupby([pd.Grouper(key='date', freq='M'), 'category'], observed=True).size().reset_index(name='count')\n",
    "\n",
    "# Calculate total number of complaints per month\n",
    "df_category_counts_monthly['total_count'] = df_category_counts_monthly.groupby('date')['count'].transform('sum')\n",
    "\n",
    "# Calculate the proportion of each product category per month\n",
    "df_category_counts_monthly['proportion'] = df_category_counts_monthly['count'] / df_category_counts_monthly['total_count']\n",
    "\n",
    "# Plot each category's proportion over time\n",
    "for ax, category, color in zip(axs.flat, categories, colors):\n",
    "    category_data = df_category_counts_monthly[df_category_counts_monthly['category'] == category]\n",
    "    sns.lineplot(data=category_data, x='date', y='proportion', ax=ax, color=color, linewidth=6)\n",
    "    ax.set_title(f'Category {category}')\n",
    "    ax.set_xlabel('Date')\n",
    "    ax.set_ylabel('Proportion')\n",
    "    ax.grid(True)  # Add grid to each subplot\n",
    "    for label in ax.get_xticklabels():\n",
    "        label.set_rotation(45)\n",
    "\n",
    "# Hide any unused subplots\n",
    "for i in range(len(categories), len(axs.flat)):\n",
    "    fig.delaxes(axs.flat[i])\n",
    "\n",
    "# Set main title and adjust subplot layout\n",
    "plt.tight_layout(rect=[0, 0, 1, 0.93])  # Adjust subplot layout to avoid overlapping the title\n",
    "fig.suptitle('Proportion of Complained Product Categories Over Time (Monthly)', fontsize=40)\n",
    "\n",
    "# Set a general save path for the figure (user should adjust the path as needed)\n",
    "save_path = 'path/to/save/proportion_of_product_categories_over_time_monthly_subplots.png'\n",
    "\n",
    "# Save the plot as an image file\n",
    "plt.savefig(save_path)\n",
    "\n",
    "# Display the plot\n",
    "plt.show()"
   ]
  },
  {
   "cell_type": "markdown",
   "id": "b27fdb09",
   "metadata": {},
   "source": [
    "### 3. Distribution of different complaint reasons over time"
   ]
  },
  {
   "cell_type": "code",
   "execution_count": null,
   "id": "7e4a5bca",
   "metadata": {},
   "outputs": [],
   "source": [
    "# Set the background color to light gray\n",
    "sns.set_style(\"whitegrid\", {\"axes.facecolor\": \".3\"})\n",
    "\n",
    "# Set font sizes for titles and axis labels\n",
    "plt.rcParams.update({\n",
    "    'axes.titlesize': 35, \n",
    "    'axes.labelsize': 30, \n",
    "    'xtick.labelsize': 25, \n",
    "    'ytick.labelsize': 20\n",
    "})\n",
    "\n",
    "# Distribution of Complaint Reasons as a Percentage Over Time (Monthly)\n",
    "fig, axs = plt.subplots(4, 2, figsize=(30, 16), sharex=True, sharey=True)\n",
    "\n",
    "# Convert 'count' to proportion of total complaints per month\n",
    "df_reason_counts = df_eda.melt(id_vars=['date'], value_vars=reasons, var_name='reason', value_name='count')\n",
    "df_reason_counts['count'] = df_reason_counts['count'].astype(int)\n",
    "df_reason_counts_monthly = df_reason_counts.groupby([pd.Grouper(key='date', freq='M'), 'reason'], observed=True).sum().reset_index()\n",
    "\n",
    "# Calculate total complaints per month\n",
    "df_total_monthly = df_reason_counts_monthly.groupby('date')['count'].sum().reset_index()\n",
    "df_reason_counts_monthly = pd.merge(df_reason_counts_monthly, df_total_monthly, on='date', suffixes=('', '_total'))\n",
    "\n",
    "# Calculate proportion of each reason\n",
    "df_reason_counts_monthly['proportion'] = df_reason_counts_monthly['count'] / df_reason_counts_monthly['count_total']\n",
    "\n",
    "# Plot each reason's proportion over time\n",
    "for ax, reason, color in zip(axs.flat, reasons, colors):\n",
    "    reason_data = df_reason_counts_monthly[df_reason_counts_monthly['reason'] == reason]\n",
    "    sns.lineplot(data=reason_data, x='date', y='proportion', ax=ax, color=color, linewidth=6)\n",
    "    ax.set_title(f'{reason}')\n",
    "    ax.set_xlabel('Date')\n",
    "    ax.set_ylabel('Proportion')\n",
    "    ax.grid(True)  # Add grid to each subplot\n",
    "    for label in ax.get_xticklabels():\n",
    "        label.set_rotation(45)\n",
    "\n",
    "# Hide any unused subplots\n",
    "for i in range(len(reasons), len(axs.flat)):\n",
    "    fig.delaxes(axs.flat[i])\n",
    "\n",
    "# Set the main title and adjust layout to avoid overlapping\n",
    "plt.tight_layout(rect=[0, 0, 1, 0.93])\n",
    "fig.suptitle('Proportion of Complaint Reasons Over Time (Monthly)', fontsize=40)\n",
    "\n",
    "# Specify the save path (user should adjust the path as needed)\n",
    "save_path = 'path/to/save/proportion_of_complaint_reasons_over_time_monthly_subplots.png'\n",
    "\n",
    "# Save the plot as an image file\n",
    "plt.savefig(save_path)\n",
    "\n",
    "# Display the plot\n",
    "plt.show()"
   ]
  },
  {
   "cell_type": "markdown",
   "id": "cc78f74c",
   "metadata": {},
   "source": [
    "### 4. Correlation analysis and visualization"
   ]
  },
  {
   "cell_type": "code",
   "execution_count": null,
   "id": "c4a5fa8a",
   "metadata": {},
   "outputs": [],
   "source": [
    "# # Handling 'category' as categorical and encoding it for correlation\n",
    "# df_eda_encoded = df_eda.copy()\n",
    "# df_eda_encoded['category'] = df_eda_encoded['category'].astype('category').cat.codes\n",
    "\n",
    "# # Recompute correlation matrix with encoded categories\n",
    "# corr_matrix_encoded = df_eda_encoded[['decision', 'gender', 'category', 'reason_1', 'reason_2', 'reason_3', 'reason_4', 'reason_5', 'reason_6', 'reason_7']].corr()\n",
    "\n",
    "# plt.figure(figsize=(10, 8))\n",
    "# sns.heatmap(corr_matrix_encoded, annot=True, cmap='coolwarm', vmin=-1, vmax=1)\n",
    "# plt.title('Correlation Matrix with Encoded Categories')\n",
    "# plt.tight_layout()\n",
    "# plt.show()"
   ]
  },
  {
   "cell_type": "markdown",
   "id": "30270a72",
   "metadata": {},
   "source": [
    "### 5. Uphold rate for each product category over time"
   ]
  },
  {
   "cell_type": "code",
   "execution_count": null,
   "id": "cdb0c4cf",
   "metadata": {},
   "outputs": [],
   "source": [
    "# Set background color to light gray\n",
    "sns.set_style(\"whitegrid\", {\"axes.facecolor\": \".3\"})\n",
    "\n",
    "# Set font sizes for titles and axis labels\n",
    "plt.rcParams.update({\n",
    "    'axes.titlesize': 35, \n",
    "    'axes.labelsize': 30, \n",
    "    'xtick.labelsize': 25, \n",
    "    'ytick.labelsize': 20,\n",
    "    'legend.facecolor': 'white'  # Set legend background color to white\n",
    "})\n",
    "\n",
    "# Calculate the overall uphold rate baseline (Monthly)\n",
    "df_eda_numeric = df_eda.select_dtypes(include=['number', 'datetime64'])\n",
    "df_eda_monthly = df_eda_numeric.set_index('date').resample('M').mean().reset_index()\n",
    "df_eda_monthly['decision_rate'] = df_eda_monthly['decision'].rolling(window=6, min_periods=1).mean()\n",
    "\n",
    "# Set up subplots for each product category (Monthly)\n",
    "fig, axs = plt.subplots(4, 3, figsize=(30, 16), sharex=True, sharey=True)\n",
    "\n",
    "# Resample decision rate by category and date (Monthly)\n",
    "df_eda_numeric_category = df_eda[['date', 'category', 'decision']].copy()\n",
    "df_eda_monthly_category = df_eda_numeric_category.set_index('date').groupby('category', observed=True).resample('M').mean(numeric_only=True).reset_index()\n",
    "df_eda_monthly_category['decision_rate'] = df_eda_monthly_category.groupby('category', observed=True)['decision'].transform(lambda x: x.rolling(window=6, min_periods=1).mean())\n",
    "\n",
    "# Define colors for each category plot\n",
    "colors = sns.color_palette(\"hsv\", len(categories))\n",
    "\n",
    "# Plot each category's uphold rate over time, with the overall rate as a reference\n",
    "for ax, category, color in zip(axs.flat, categories, colors):\n",
    "    category_data = df_eda_monthly_category[df_eda_monthly_category['category'] == category]\n",
    "    sns.lineplot(data=category_data, x='date', y='decision_rate', ax=ax, color=color, linewidth=5)\n",
    "    sns.lineplot(data=df_eda_monthly, x='date', y='decision_rate', ax=ax, color='white', linewidth=5, linestyle='--', label='Overall Uphold Rate')\n",
    "    ax.set_title(f'Category {category}')\n",
    "    ax.set_xlabel('Date')\n",
    "    ax.set_ylabel('Uphold Rate')\n",
    "    ax.grid(True)  # Add grid to each subplot\n",
    "    for label in ax.get_xticklabels():\n",
    "        label.set_rotation(45)\n",
    "    ax.legend(prop={'size': 20})  # Adjust legend font size for each subplot\n",
    "\n",
    "# Hide any unused subplots\n",
    "for i in range(len(categories), len(axs.flat)):\n",
    "    fig.delaxes(axs.flat[i])\n",
    "\n",
    "# Set the main title and adjust layout to avoid overlapping\n",
    "plt.tight_layout(rect=[0, 0, 1, 0.93])\n",
    "fig.suptitle('Uphold Rate by Product Category Over Time (Monthly)', fontsize=40)\n",
    "\n",
    "# Specify the save path (user should adjust the path as needed)\n",
    "save_path = 'path/to/save/uphold_rate_by_product_category_over_time_monthly.png'\n",
    "\n",
    "# Save the plot as an image file\n",
    "plt.savefig(save_path)\n",
    "\n",
    "# Display the plot\n",
    "plt.show()"
   ]
  },
  {
   "cell_type": "markdown",
   "id": "72e98bb3",
   "metadata": {},
   "source": [
    "## Specific Product Categories"
   ]
  },
  {
   "cell_type": "code",
   "execution_count": null,
   "id": "fcb98079",
   "metadata": {},
   "outputs": [],
   "source": [
    "def analyze_category(df, category):\n",
    "    \"\"\"\n",
    "    Analyzes and visualizes the complaint data for a specific insurance product category.\n",
    "\n",
    "    This function filters the DataFrame by the specified category, calculates the total frequency \n",
    "    of each complaint reason, and generates visualizations for the total frequency of reasons \n",
    "    and their distribution over time.\n",
    "\n",
    "    Parameters:\n",
    "    df (pd.DataFrame): The input DataFrame containing complaint data.\n",
    "    category (str): The insurance product category to analyze (e.g., 'c1', 'c2').\n",
    "\n",
    "    Returns:\n",
    "    tuple: A tuple containing:\n",
    "        - df_category (pd.DataFrame): Filtered DataFrame for the specified category.\n",
    "        - reason_totals (pd.DataFrame): DataFrame with total counts of each complaint reason.\n",
    "        - df_reason_counts_daily (pd.DataFrame): DataFrame with the daily counts of reasons over time.\n",
    "    \"\"\"\n",
    "\n",
    "    # Ensure the date column is in datetime format\n",
    "    df['date'] = pd.to_datetime(df['date'])\n",
    "    \n",
    "    # Filter the DataFrame by the specified category\n",
    "    df_category = df[df['category'] == category]\n",
    "    \n",
    "    # List of complaint reasons\n",
    "    reasons = ['reason_1', 'reason_2', 'reason_3', 'reason_4', 'reason_5', 'reason_6', 'reason_7']\n",
    "    \n",
    "    # Calculate the total frequency of each reason\n",
    "    reason_totals = df_category[reasons].sum().reset_index()\n",
    "    reason_totals.columns = ['reason', 'total_count']\n",
    "    \n",
    "    # Adjust font sizes for plots\n",
    "    plt.rcParams.update({\n",
    "        'axes.titlesize': 50,  # Size of the plot titles\n",
    "        'axes.labelsize': 45,  # Size of the axis labels\n",
    "        'xtick.labelsize': 40,  # Size of the x-axis tick labels\n",
    "        'ytick.labelsize': 40,  # Size of the y-axis tick labels\n",
    "        'legend.fontsize': 40,  # Size of the legend font\n",
    "        'legend.title_fontsize': 40  # Size of the legend title font\n",
    "    })\n",
    "    \n",
    "    # Visualize the total frequency of each reason\n",
    "    plt.figure(figsize=(25, 20))\n",
    "    sns.barplot(data=reason_totals, x='reason', y='total_count', linewidth=6)\n",
    "    plt.title(f'Total Frequency of Each Reason for Category {category}', pad=30)\n",
    "    plt.xlabel('Reason')\n",
    "    plt.ylabel('Total Count')\n",
    "    plt.grid(True)\n",
    "    plt.xticks(rotation=45)\n",
    "    plt.tight_layout(rect=[0, 0, 0.97, 0.97])\n",
    "    \n",
    "    # Save the bar plot figure to a file (user should adjust the path)\n",
    "    save_path = f'path/to/save/total_frequency_of_each_reason_for_category_{category}.png'\n",
    "    plt.savefig(save_path, bbox_inches='tight')\n",
    "    plt.show()\n",
    "    \n",
    "    # Prepare data for visualizing the frequency of reasons over time\n",
    "    df_reason_counts = df_category.melt(id_vars=['date'], value_vars=reasons, var_name='reason', value_name='count')\n",
    "    df_reason_counts['count'] = df_reason_counts['count'].astype(int)\n",
    "    df_reason_counts_daily = df_reason_counts.groupby([pd.Grouper(key='date', freq='M'), 'reason'], observed=True).sum().reset_index()\n",
    "    \n",
    "    # Visualize the frequency of reasons over time\n",
    "    plt.figure(figsize=(25, 20))\n",
    "    sns.lineplot(data=df_reason_counts_daily, x='date', y='count', hue='reason', linewidth=6)\n",
    "    plt.title(f'Frequency of Reasons Over Time for Category {category}', pad=30)\n",
    "    plt.xlabel('Date')\n",
    "    plt.ylabel('Count')\n",
    "    plt.grid(True)\n",
    "    plt.legend(title='Reason', bbox_to_anchor=(1.05, 1), loc='upper left', prop={'size': 30}, title_fontsize=35)\n",
    "    plt.xticks(rotation=45)\n",
    "    plt.tight_layout(rect=[0, 0, 0.97, 0.97])\n",
    "    \n",
    "    # Save the line plot figure to a file (user should adjust the path)\n",
    "    save_path = f'path/to/save/frequency_of_reasons_over_time_for_category_{category}.png'\n",
    "    plt.savefig(save_path, bbox_inches='tight')\n",
    "    plt.show()\n",
    "    \n",
    "    return df_category, reason_totals, df_reason_counts_daily"
   ]
  },
  {
   "cell_type": "markdown",
   "id": "261f72dc",
   "metadata": {},
   "source": [
    "### Products already available in SB"
   ]
  },
  {
   "cell_type": "code",
   "execution_count": null,
   "id": "6dce05e6",
   "metadata": {},
   "outputs": [],
   "source": [
    "category = 'c3'\n",
    "df_category, reason_totals, df_reason_counts_daily = analyze_category(df_eda, category)"
   ]
  },
  {
   "cell_type": "code",
   "execution_count": null,
   "id": "de49507c",
   "metadata": {},
   "outputs": [],
   "source": [
    "category = 'c4'\n",
    "df_category, reason_totals, df_reason_counts_daily = analyze_category(df_eda, category)"
   ]
  },
  {
   "cell_type": "code",
   "execution_count": null,
   "id": "b3724deb",
   "metadata": {},
   "outputs": [],
   "source": [
    "category = 'c5'\n",
    "df_category, reason_totals, df_reason_counts_daily = analyze_category(df_eda, category)"
   ]
  },
  {
   "cell_type": "code",
   "execution_count": null,
   "id": "899f025a",
   "metadata": {},
   "outputs": [],
   "source": [
    "category = 'c6'\n",
    "df_category, reason_totals, df_reason_counts_daily = analyze_category(df_eda, category)"
   ]
  },
  {
   "cell_type": "code",
   "execution_count": null,
   "id": "5cce3461",
   "metadata": {},
   "outputs": [],
   "source": [
    "category = 'c9'\n",
    "df_category, reason_totals, df_reason_counts_daily = analyze_category(df_eda, category)"
   ]
  },
  {
   "cell_type": "code",
   "execution_count": null,
   "id": "53d176f0",
   "metadata": {},
   "outputs": [],
   "source": [
    "category = 'c10'\n",
    "df_category, reason_totals, df_reason_counts_daily = analyze_category(df_eda, category)"
   ]
  },
  {
   "cell_type": "code",
   "execution_count": null,
   "id": "508077e8",
   "metadata": {},
   "outputs": [],
   "source": [
    "category = 'c11'\n",
    "df_category, reason_totals, df_reason_counts_daily = analyze_category(df_eda, category)"
   ]
  },
  {
   "cell_type": "markdown",
   "id": "d4677d9f",
   "metadata": {},
   "source": [
    "### Products that SB doesn't have"
   ]
  },
  {
   "cell_type": "code",
   "execution_count": null,
   "id": "2d1e59b6",
   "metadata": {},
   "outputs": [],
   "source": [
    "category = 'c1'\n",
    "df_category, reason_totals, df_reason_counts_daily = analyze_category(df_eda, category)"
   ]
  },
  {
   "cell_type": "code",
   "execution_count": null,
   "id": "b444b7bd",
   "metadata": {},
   "outputs": [],
   "source": [
    "category = 'c2'\n",
    "df_category, reason_totals, df_reason_counts_daily = analyze_category(df_eda, category)"
   ]
  },
  {
   "cell_type": "code",
   "execution_count": null,
   "id": "d4ffa35c",
   "metadata": {},
   "outputs": [],
   "source": [
    "category = 'c7'\n",
    "df_category, reason_totals, df_reason_counts_daily = analyze_category(df_eda, category)"
   ]
  },
  {
   "cell_type": "code",
   "execution_count": null,
   "id": "92a0fdc3",
   "metadata": {},
   "outputs": [],
   "source": [
    "category = 'c8'\n",
    "df_category, reason_totals, df_reason_counts_daily = analyze_category(df_eda, category)"
   ]
  }
 ],
 "metadata": {
  "hide_input": false,
  "kernelspec": {
   "display_name": "Python 3 (ipykernel)",
   "language": "python",
   "name": "python3"
  },
  "language_info": {
   "codemirror_mode": {
    "name": "ipython",
    "version": 3
   },
   "file_extension": ".py",
   "mimetype": "text/x-python",
   "name": "python",
   "nbconvert_exporter": "python",
   "pygments_lexer": "ipython3",
   "version": "3.11.4"
  },
  "toc": {
   "base_numbering": 1,
   "nav_menu": {},
   "number_sections": true,
   "sideBar": true,
   "skip_h1_title": false,
   "title_cell": "Table of Contents",
   "title_sidebar": "Contents",
   "toc_cell": false,
   "toc_position": {
    "height": "calc(100% - 180px)",
    "left": "10px",
    "top": "150px",
    "width": "288px"
   },
   "toc_section_display": true,
   "toc_window_display": true
  },
  "varInspector": {
   "cols": {
    "lenName": 16,
    "lenType": 16,
    "lenVar": 40
   },
   "kernels_config": {
    "python": {
     "delete_cmd_postfix": "",
     "delete_cmd_prefix": "del ",
     "library": "var_list.py",
     "varRefreshCmd": "print(var_dic_list())"
    },
    "r": {
     "delete_cmd_postfix": ") ",
     "delete_cmd_prefix": "rm(",
     "library": "var_list.r",
     "varRefreshCmd": "cat(var_dic_list()) "
    }
   },
   "types_to_exclude": [
    "module",
    "function",
    "builtin_function_or_method",
    "instance",
    "_Feature"
   ],
   "window_display": false
  }
 },
 "nbformat": 4,
 "nbformat_minor": 5
}
